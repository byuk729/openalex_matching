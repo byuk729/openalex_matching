{
 "cells": [
  {
   "cell_type": "markdown",
   "id": "2e92601f",
   "metadata": {},
   "source": []
  },
  {
   "cell_type": "code",
   "execution_count": 6,
   "id": "53ade136",
   "metadata": {},
   "outputs": [
    {
     "data": {
      "text/plain": [
       "<module 'openalex_matching.csv_handler' from '/Users/bryanyuk/anaconda3/lib/python3.11/site-packages/openalex_matching/csv_handler.py'>"
      ]
     },
     "execution_count": 6,
     "metadata": {},
     "output_type": "execute_result"
    }
   ],
   "source": [
    "from openalex_matching import person_match\n",
    "from collections import defaultdict\n",
    "from openalex_matching import csv_handler"
   ]
  },
  {
   "cell_type": "markdown",
   "id": "44686ae0-0f08-4dc8-8359-5f787b15bde7",
   "metadata": {},
   "source": [
    "# OpenAlex API Search Strategy"
   ]
  },
  {
   "attachments": {},
   "cell_type": "markdown",
   "id": "9cdf029a-2cda-4762-8a87-a84550d43d13",
   "metadata": {},
   "source": [
    "# Strategy: \n",
    "1. Find the OpenAlex Institution ID:\n",
    "    - First, search for the OpenAlex ID of the desired institution using the institution's name.\n",
    "\n",
    "2. Search for Authors by Name and Institution:\n",
    "    - Next, search for authors by their display name, filtering results by the institution's OpenAlex ID. If no results are found:\n",
    "        - Search through nick names associated with author's first name\n",
    "        - If the input name consists of two capital letters (indicating initials), attempt an initial-based search.\n",
    "        - If that still returns no results, try searching by first initial and last name.\n",
    "    - The search will return one of three enumerated types:\n",
    "        - EXACT_NAME: Indicates an exact match with the full name.\n",
    "        - FIRST_MIDDLE_INITIAL: Indicates a match using first and middle initials.\n",
    "        - FIRST_INITIAL: Indicates a match using only the first initial.\n",
    "    - The filtering method will adjust based on the type of search used.\n",
    "3. Filter and Select the Best Matched Author:\n",
    "    - Depending on the type of search used, filter the list of matched OpenAlex IDs:\n",
    "        - Exact Name Search (EXACT_NAME): Use fuzzy string matching to eliminate names that deviate too much from the inputted author name. Select the author with the highest fuzzy match score. In case of a tie in fuzzy match scores, choose the author with the higher citation count.\n",
    "        - Initial Search (FIRST_MIDDLE_INITIAL or FIRST_INITIAL): Ensure that the first initial of the inputted author name matches the first initial of the returned author names. Filter out any mismatches. Then, select the most highly cited author.\n",
    "        - For searches using only one initial (FIRST_INITIAL), apply a stricter fuzzy matching threshold since these searches are more prone to errors. In case of a tie, select the author with more citations.\n"
   ]
  },
  {
   "cell_type": "code",
   "execution_count": 2,
   "id": "e3678ee5",
   "metadata": {},
   "outputs": [
    {
     "name": "stdout",
     "output_type": "stream",
     "text": [
      "I51556381\n"
     ]
    }
   ],
   "source": [
    "#Step One\n",
    "university_name = 'University of Virginia'\n",
    "university_id = person_match.institution_id_openalex(university_name)\n",
    "print(university_id)"
   ]
  },
  {
   "cell_type": "code",
   "execution_count": 3,
   "id": "f7303704",
   "metadata": {},
   "outputs": [
    {
     "name": "stdout",
     "output_type": "stream",
     "text": [
      "['A5015605411', 'A5111842581', 'A5029765901']\n"
     ]
    }
   ],
   "source": [
    "#Step Two\n",
    "person_name = \"Ray Balkrishnan\"\n",
    "list_of_ids, type_search_conducted, match_person_name = person_match.list_person_ids_openalex(person_name, university_id)\n",
    "print(list_of_ids)\n",
    "\n",
    "\n"
   ]
  },
  {
   "cell_type": "code",
   "execution_count": 4,
   "id": "1476e9c6",
   "metadata": {},
   "outputs": [
    {
     "name": "stdout",
     "output_type": "stream",
     "text": [
      "A5029765901\n"
     ]
    }
   ],
   "source": [
    "#Step Three\n",
    "openalex_id = person_match.choose_person(list_of_ids, match_person_name, university_id, type_search_conducted)\n",
    "print(openalex_id)"
   ]
  },
  {
   "cell_type": "markdown",
   "id": "8389b719",
   "metadata": {},
   "source": [
    "## Example inputting and outputting CSV files"
   ]
  },
  {
   "cell_type": "code",
   "execution_count": 13,
   "id": "b0625589",
   "metadata": {},
   "outputs": [
    {
     "name": "stdout",
     "output_type": "stream",
     "text": [
      "['Gabrielle Adams' 'Nafisa Ahmed' 'Sonia Alconini' 'Negin Alemazkoor'\n",
      " 'Harsh Anand' 'Elizabeth Andrews' 'Anthony Artuso' 'Mary Asare-Ado'\n",
      " 'Ehsan Baharlou' 'Teagan Baiotto' 'Cora Baird' 'Prasanna Balachandran'\n",
      " 'Ray Balkrishnan' 'Lawrence Band' 'Ellen Bassett' 'Tim Beatley'\n",
      " 'Jeffrey Bennett' 'Peter Berg' 'Emily Bernhardt' 'Alice Besterman'\n",
      " 'Lori Bird' 'Shannon Blevins' 'Swatah Borkotoky' 'Hanne Borstlap'\n",
      " 'Allison Bradshaw' 'Jeanine Braithwaite' 'JD Brown' 'Kelly Bulin'\n",
      " 'Mark Buntaine' 'Matthew Burtner' 'Dawn Byrd' 'Liheng Cai'\n",
      " 'Brad Campbell' 'Jonathan Cannon' 'Brad Cantrell' 'Kerrie Carfagno'\n",
      " 'Ann Carlton' 'Kathy Carmody' 'Sergio Casas' 'Max Castorani' 'Dong Chen'\n",
      " 'Donna Chen' 'Leena Cho' 'Michele Claibourn' 'Andres Clarens'\n",
      " 'Tanya Cobb' 'Ronald Cohen' 'Jonathan Colmer' 'Lisa Colosi'\n",
      " 'Josh Colston' 'Ben Converse' 'Nina Copeland' 'Sheila Crane'\n",
      " 'Phoebe Crisman' 'Teresa Culver' \"Paolo D'Odorico\" 'Robert Davis'\n",
      " 'Brian Davis' 'Peter Debaere' 'Cahterine Debbas' 'Pam DeGuzman'\n",
      " 'Ryan Denker' 'Rebecca Dillingham' 'Lise Dobrin' 'Tim Dodson'\n",
      " 'Scott Doney' 'Karen Downing' 'Kateri Dubay' 'Frank Dukes'\n",
      " 'Aleksandra Durova' 'Andre Elliot' 'Kyle Enfield' 'William Epling'\n",
      " 'Howard Epstein' 'Bevin Etienne' 'Bin Fang' 'Chloe Fauvel'\n",
      " 'Aissatou Faye' 'Joao Fereirra' 'Sean Ferguson' 'Kim Fields'\n",
      " 'Charles Fish ' 'Daniel Fishkin' 'Jonah Fogel' 'MC Forelle'\n",
      " 'Alex Foxworthy' 'Cassandra Fraser' 'Jay Fuhrman' 'Kirsten Gelsdorf'\n",
      " 'Adrienne Ghaly' 'Gaurav Giri' 'Sierra Gladfelter' 'Joshua Goldstein'\n",
      " 'Jonathan Goodall' 'Michael Gorman' 'Christopher Goyne' 'Fiona Greenland'\n",
      " 'Claire Griffin' 'Kevin Grise' 'Mool Gupta' 'Dat Ha' 'Jennifer Hadayia'\n",
      " 'Martien Halvorsen-Taylor' 'Devin Harris' 'Tom Hartvigsen'\n",
      " 'Arsalan Heydarian' 'Mar Hicks' 'Bruce Holsinger' 'Stefan Hoops'\n",
      " 'Guoping Huang' 'Ryan Huish' 'Omoanghe Isikhuemhen' 'Mohamed Ismail'\n",
      " 'Parisa Javadi' 'Willis Jenkins' 'Kelsey Johnson' 'Della Jordan'\n",
      " 'Matthew Jull' 'Andrew Kahrl' 'Hyojung Kang' 'Kamair Khayambashi'\n",
      " 'April Kim' 'Rachel Kinzer' 'Leidy Klotz' 'Janelle Knox-Hayes'\n",
      " 'Gary Koenig' 'Margaret Kosek' 'Luke Kreider' 'Sharon Ku'\n",
      " 'Venkataraman Lakshmi' 'Deborah Lawrence' 'David Leblang' 'Manuel Lerdau'\n",
      " 'Ajay Limaye' 'Erik Linstrum' 'Eric Loth' 'Garrick Louis' 'Boyang Lu '\n",
      " 'Christopher Luna-Mega' 'Katie MacDonald' 'Christine Mahoney'\n",
      " 'Antonios Mamalakis' 'Dayna Matthew' 'Karen McGlathery' 'Zihan Mei'\n",
      " 'Beth Mitchell' 'Christina Mobley' 'Andrew Mondschein' 'Henning Mortveit'\n",
      " 'Balashankar Mulloth' 'N/A N/A' 'Chris Neale' 'Wendy Novicoff'\n",
      " 'Charity Nyelele' \"Moira O'Neill\" 'Osman Osbulut' 'Michael Pace'\n",
      " 'Sonal Pandya' 'Brian Park' 'Maryfrances Porter' 'Shreekar Pradhan'\n",
      " 'Sally Pusede' 'Erin Putalink' 'Julianne Quinn' 'Daniel Quinn' 'Mani Rad'\n",
      " 'Daniel Rau' 'Jess Reia' 'Matthew Reidenbach' 'Terrence Rephann'\n",
      " 'Brian Richter' 'Beth Roach' 'Jenny Roe' 'Charlotte Rogers'\n",
      " 'Robert Sabbatini' 'Nafiseh Salehi' 'Marisa Sanchez' 'Kurtis Schaeffer'\n",
      " 'Kathleen Schiro' 'Sheetal Sekhri' 'Majid Shafiee-Jood' 'Victoria Shen'\n",
      " 'Jay Shimshack' 'Bill Shobe' 'Jorg Sieweke' 'Lauren Simkins'\n",
      " 'Udayan Singh' 'Kellen Singleton' 'Michael Skrutskie' 'Donna Smith'\n",
      " 'Jim Smith' 'Min-Woong Sohn' 'Mircea Stan' 'Eli Stine' 'Logan Stundal'\n",
      " 'Samarth Swarup' 'Leon Szeptycki' 'Katherine Tarrant' 'Ozlem Tasci'\n",
      " 'Martin Volaric' 'Charles Vorosmarty' 'Alex Wall' 'Mark White'\n",
      " 'Kamin Whitehouse' 'Patricia Wiberg' 'Bev Wilson' 'Barbara Wilson'\n",
      " 'Brantly Womack' 'Xi Yang' 'Fangfang Yao' 'Shan Yu' 'Wie Yusuf'\n",
      " 'Madeleine Zahn' 'Sen Zhang' 'Yulu Zhang' 'Ruoyu Zhang' 'Ruijie Zhu']\n",
      "A5016085568 has not met string matching threshold: not a valid name\n",
      "A5006791842 has not met string matching threshold: not a valid name\n"
     ]
    },
    {
     "ename": "KeyboardInterrupt",
     "evalue": "",
     "output_type": "error",
     "traceback": [
      "\u001b[0;31m---------------------------------------------------------------------------\u001b[0m",
      "\u001b[0;31mKeyboardInterrupt\u001b[0m                         Traceback (most recent call last)",
      "Cell \u001b[0;32mIn[13], line 11\u001b[0m\n\u001b[1;32m      9\u001b[0m \u001b[38;5;66;03m#Iterating through names array, finding corresponding OpenAlex ID for each author\u001b[39;00m\n\u001b[1;32m     10\u001b[0m \u001b[38;5;28;01mfor\u001b[39;00m name \u001b[38;5;129;01min\u001b[39;00m namesArray: \n\u001b[0;32m---> 11\u001b[0m     person_ids, type_search_conducted, match_person_name \u001b[38;5;241m=\u001b[39m person_match\u001b[38;5;241m.\u001b[39mlist_person_ids_openalex(name, university_id)\n\u001b[1;32m     12\u001b[0m     selectID \u001b[38;5;241m=\u001b[39m person_match\u001b[38;5;241m.\u001b[39mchoose_person(person_ids, name, university_id, type_search_conducted)\n\u001b[1;32m     13\u001b[0m     IDArray\u001b[38;5;241m.\u001b[39mappend(selectID)\n",
      "File \u001b[0;32m~/anaconda3/lib/python3.11/site-packages/openalex_matching/person_match.py:110\u001b[0m, in \u001b[0;36mlist_person_ids_openalex\u001b[0;34m(person_name, university_id)\u001b[0m\n\u001b[1;32m    108\u001b[0m \u001b[38;5;28;01mif\u001b[39;00m \u001b[38;5;129;01mnot\u001b[39;00m ids:\n\u001b[1;32m    109\u001b[0m     \u001b[38;5;28;01mfor\u001b[39;00m firstName \u001b[38;5;129;01min\u001b[39;00m totalNames:\n\u001b[0;32m--> 110\u001b[0m         ids\u001b[38;5;241m.\u001b[39mextend(search_with_name(firstName))\n\u001b[1;32m    111\u001b[0m         \u001b[38;5;66;03m#If the nickname search returns results, update the first name to the best matching name. \u001b[39;00m\n\u001b[1;32m    112\u001b[0m         \u001b[38;5;28;01mif\u001b[39;00m ids:\n",
      "File \u001b[0;32m~/anaconda3/lib/python3.11/site-packages/openalex_matching/person_match.py:86\u001b[0m, in \u001b[0;36mlist_person_ids_openalex.<locals>.search_with_name\u001b[0;34m(name)\u001b[0m\n\u001b[1;32m     84\u001b[0m \u001b[38;5;28;01mwhile\u001b[39;00m trycnt \u001b[38;5;241m>\u001b[39m \u001b[38;5;241m0\u001b[39m:\n\u001b[1;32m     85\u001b[0m     \u001b[38;5;28;01mtry\u001b[39;00m:\n\u001b[0;32m---> 86\u001b[0m         response \u001b[38;5;241m=\u001b[39m requests\u001b[38;5;241m.\u001b[39mget(url)\n\u001b[1;32m     87\u001b[0m         \u001b[38;5;28;01mif\u001b[39;00m response\u001b[38;5;241m.\u001b[39mstatus_code \u001b[38;5;241m!=\u001b[39m \u001b[38;5;241m200\u001b[39m:\n\u001b[1;32m     88\u001b[0m             \u001b[38;5;28mprint\u001b[39m(\u001b[38;5;124mf\u001b[39m\u001b[38;5;124m'\u001b[39m\u001b[38;5;124mThe webpage cannot be fetched for \u001b[39m\u001b[38;5;132;01m{\u001b[39;00mname\u001b[38;5;132;01m}\u001b[39;00m\u001b[38;5;124m \u001b[39m\u001b[38;5;132;01m{\u001b[39;00mlast\u001b[38;5;132;01m}\u001b[39;00m\u001b[38;5;124m!\u001b[39m\u001b[38;5;124m'\u001b[39m)\n",
      "File \u001b[0;32m~/anaconda3/lib/python3.11/site-packages/requests/api.py:73\u001b[0m, in \u001b[0;36mget\u001b[0;34m(url, params, **kwargs)\u001b[0m\n\u001b[1;32m     62\u001b[0m \u001b[38;5;28;01mdef\u001b[39;00m \u001b[38;5;21mget\u001b[39m(url, params\u001b[38;5;241m=\u001b[39m\u001b[38;5;28;01mNone\u001b[39;00m, \u001b[38;5;241m*\u001b[39m\u001b[38;5;241m*\u001b[39mkwargs):\n\u001b[1;32m     63\u001b[0m \u001b[38;5;250m    \u001b[39m\u001b[38;5;124mr\u001b[39m\u001b[38;5;124;03m\"\"\"Sends a GET request.\u001b[39;00m\n\u001b[1;32m     64\u001b[0m \n\u001b[1;32m     65\u001b[0m \u001b[38;5;124;03m    :param url: URL for the new :class:`Request` object.\u001b[39;00m\n\u001b[0;32m   (...)\u001b[0m\n\u001b[1;32m     70\u001b[0m \u001b[38;5;124;03m    :rtype: requests.Response\u001b[39;00m\n\u001b[1;32m     71\u001b[0m \u001b[38;5;124;03m    \"\"\"\u001b[39;00m\n\u001b[0;32m---> 73\u001b[0m     \u001b[38;5;28;01mreturn\u001b[39;00m request(\u001b[38;5;124m\"\u001b[39m\u001b[38;5;124mget\u001b[39m\u001b[38;5;124m\"\u001b[39m, url, params\u001b[38;5;241m=\u001b[39mparams, \u001b[38;5;241m*\u001b[39m\u001b[38;5;241m*\u001b[39mkwargs)\n",
      "File \u001b[0;32m~/anaconda3/lib/python3.11/site-packages/requests/api.py:59\u001b[0m, in \u001b[0;36mrequest\u001b[0;34m(method, url, **kwargs)\u001b[0m\n\u001b[1;32m     55\u001b[0m \u001b[38;5;66;03m# By using the 'with' statement we are sure the session is closed, thus we\u001b[39;00m\n\u001b[1;32m     56\u001b[0m \u001b[38;5;66;03m# avoid leaving sockets open which can trigger a ResourceWarning in some\u001b[39;00m\n\u001b[1;32m     57\u001b[0m \u001b[38;5;66;03m# cases, and look like a memory leak in others.\u001b[39;00m\n\u001b[1;32m     58\u001b[0m \u001b[38;5;28;01mwith\u001b[39;00m sessions\u001b[38;5;241m.\u001b[39mSession() \u001b[38;5;28;01mas\u001b[39;00m session:\n\u001b[0;32m---> 59\u001b[0m     \u001b[38;5;28;01mreturn\u001b[39;00m session\u001b[38;5;241m.\u001b[39mrequest(method\u001b[38;5;241m=\u001b[39mmethod, url\u001b[38;5;241m=\u001b[39murl, \u001b[38;5;241m*\u001b[39m\u001b[38;5;241m*\u001b[39mkwargs)\n",
      "File \u001b[0;32m~/anaconda3/lib/python3.11/site-packages/requests/sessions.py:589\u001b[0m, in \u001b[0;36mSession.request\u001b[0;34m(self, method, url, params, data, headers, cookies, files, auth, timeout, allow_redirects, proxies, hooks, stream, verify, cert, json)\u001b[0m\n\u001b[1;32m    584\u001b[0m send_kwargs \u001b[38;5;241m=\u001b[39m {\n\u001b[1;32m    585\u001b[0m     \u001b[38;5;124m\"\u001b[39m\u001b[38;5;124mtimeout\u001b[39m\u001b[38;5;124m\"\u001b[39m: timeout,\n\u001b[1;32m    586\u001b[0m     \u001b[38;5;124m\"\u001b[39m\u001b[38;5;124mallow_redirects\u001b[39m\u001b[38;5;124m\"\u001b[39m: allow_redirects,\n\u001b[1;32m    587\u001b[0m }\n\u001b[1;32m    588\u001b[0m send_kwargs\u001b[38;5;241m.\u001b[39mupdate(settings)\n\u001b[0;32m--> 589\u001b[0m resp \u001b[38;5;241m=\u001b[39m \u001b[38;5;28mself\u001b[39m\u001b[38;5;241m.\u001b[39msend(prep, \u001b[38;5;241m*\u001b[39m\u001b[38;5;241m*\u001b[39msend_kwargs)\n\u001b[1;32m    591\u001b[0m \u001b[38;5;28;01mreturn\u001b[39;00m resp\n",
      "File \u001b[0;32m~/anaconda3/lib/python3.11/site-packages/requests/sessions.py:703\u001b[0m, in \u001b[0;36mSession.send\u001b[0;34m(self, request, **kwargs)\u001b[0m\n\u001b[1;32m    700\u001b[0m start \u001b[38;5;241m=\u001b[39m preferred_clock()\n\u001b[1;32m    702\u001b[0m \u001b[38;5;66;03m# Send the request\u001b[39;00m\n\u001b[0;32m--> 703\u001b[0m r \u001b[38;5;241m=\u001b[39m adapter\u001b[38;5;241m.\u001b[39msend(request, \u001b[38;5;241m*\u001b[39m\u001b[38;5;241m*\u001b[39mkwargs)\n\u001b[1;32m    705\u001b[0m \u001b[38;5;66;03m# Total elapsed time of the request (approximately)\u001b[39;00m\n\u001b[1;32m    706\u001b[0m elapsed \u001b[38;5;241m=\u001b[39m preferred_clock() \u001b[38;5;241m-\u001b[39m start\n",
      "File \u001b[0;32m~/anaconda3/lib/python3.11/site-packages/requests/adapters.py:486\u001b[0m, in \u001b[0;36mHTTPAdapter.send\u001b[0;34m(self, request, stream, timeout, verify, cert, proxies)\u001b[0m\n\u001b[1;32m    483\u001b[0m     timeout \u001b[38;5;241m=\u001b[39m TimeoutSauce(connect\u001b[38;5;241m=\u001b[39mtimeout, read\u001b[38;5;241m=\u001b[39mtimeout)\n\u001b[1;32m    485\u001b[0m \u001b[38;5;28;01mtry\u001b[39;00m:\n\u001b[0;32m--> 486\u001b[0m     resp \u001b[38;5;241m=\u001b[39m conn\u001b[38;5;241m.\u001b[39murlopen(\n\u001b[1;32m    487\u001b[0m         method\u001b[38;5;241m=\u001b[39mrequest\u001b[38;5;241m.\u001b[39mmethod,\n\u001b[1;32m    488\u001b[0m         url\u001b[38;5;241m=\u001b[39murl,\n\u001b[1;32m    489\u001b[0m         body\u001b[38;5;241m=\u001b[39mrequest\u001b[38;5;241m.\u001b[39mbody,\n\u001b[1;32m    490\u001b[0m         headers\u001b[38;5;241m=\u001b[39mrequest\u001b[38;5;241m.\u001b[39mheaders,\n\u001b[1;32m    491\u001b[0m         redirect\u001b[38;5;241m=\u001b[39m\u001b[38;5;28;01mFalse\u001b[39;00m,\n\u001b[1;32m    492\u001b[0m         assert_same_host\u001b[38;5;241m=\u001b[39m\u001b[38;5;28;01mFalse\u001b[39;00m,\n\u001b[1;32m    493\u001b[0m         preload_content\u001b[38;5;241m=\u001b[39m\u001b[38;5;28;01mFalse\u001b[39;00m,\n\u001b[1;32m    494\u001b[0m         decode_content\u001b[38;5;241m=\u001b[39m\u001b[38;5;28;01mFalse\u001b[39;00m,\n\u001b[1;32m    495\u001b[0m         retries\u001b[38;5;241m=\u001b[39m\u001b[38;5;28mself\u001b[39m\u001b[38;5;241m.\u001b[39mmax_retries,\n\u001b[1;32m    496\u001b[0m         timeout\u001b[38;5;241m=\u001b[39mtimeout,\n\u001b[1;32m    497\u001b[0m         chunked\u001b[38;5;241m=\u001b[39mchunked,\n\u001b[1;32m    498\u001b[0m     )\n\u001b[1;32m    500\u001b[0m \u001b[38;5;28;01mexcept\u001b[39;00m (ProtocolError, \u001b[38;5;167;01mOSError\u001b[39;00m) \u001b[38;5;28;01mas\u001b[39;00m err:\n\u001b[1;32m    501\u001b[0m     \u001b[38;5;28;01mraise\u001b[39;00m \u001b[38;5;167;01mConnectionError\u001b[39;00m(err, request\u001b[38;5;241m=\u001b[39mrequest)\n",
      "File \u001b[0;32m~/anaconda3/lib/python3.11/site-packages/urllib3/connectionpool.py:714\u001b[0m, in \u001b[0;36mHTTPConnectionPool.urlopen\u001b[0;34m(self, method, url, body, headers, retries, redirect, assert_same_host, timeout, pool_timeout, release_conn, chunked, body_pos, **response_kw)\u001b[0m\n\u001b[1;32m    711\u001b[0m     \u001b[38;5;28mself\u001b[39m\u001b[38;5;241m.\u001b[39m_prepare_proxy(conn)\n\u001b[1;32m    713\u001b[0m \u001b[38;5;66;03m# Make the request on the httplib connection object.\u001b[39;00m\n\u001b[0;32m--> 714\u001b[0m httplib_response \u001b[38;5;241m=\u001b[39m \u001b[38;5;28mself\u001b[39m\u001b[38;5;241m.\u001b[39m_make_request(\n\u001b[1;32m    715\u001b[0m     conn,\n\u001b[1;32m    716\u001b[0m     method,\n\u001b[1;32m    717\u001b[0m     url,\n\u001b[1;32m    718\u001b[0m     timeout\u001b[38;5;241m=\u001b[39mtimeout_obj,\n\u001b[1;32m    719\u001b[0m     body\u001b[38;5;241m=\u001b[39mbody,\n\u001b[1;32m    720\u001b[0m     headers\u001b[38;5;241m=\u001b[39mheaders,\n\u001b[1;32m    721\u001b[0m     chunked\u001b[38;5;241m=\u001b[39mchunked,\n\u001b[1;32m    722\u001b[0m )\n\u001b[1;32m    724\u001b[0m \u001b[38;5;66;03m# If we're going to release the connection in ``finally:``, then\u001b[39;00m\n\u001b[1;32m    725\u001b[0m \u001b[38;5;66;03m# the response doesn't need to know about the connection. Otherwise\u001b[39;00m\n\u001b[1;32m    726\u001b[0m \u001b[38;5;66;03m# it will also try to release it and we'll have a double-release\u001b[39;00m\n\u001b[1;32m    727\u001b[0m \u001b[38;5;66;03m# mess.\u001b[39;00m\n\u001b[1;32m    728\u001b[0m response_conn \u001b[38;5;241m=\u001b[39m conn \u001b[38;5;28;01mif\u001b[39;00m \u001b[38;5;129;01mnot\u001b[39;00m release_conn \u001b[38;5;28;01melse\u001b[39;00m \u001b[38;5;28;01mNone\u001b[39;00m\n",
      "File \u001b[0;32m~/anaconda3/lib/python3.11/site-packages/urllib3/connectionpool.py:466\u001b[0m, in \u001b[0;36mHTTPConnectionPool._make_request\u001b[0;34m(self, conn, method, url, timeout, chunked, **httplib_request_kw)\u001b[0m\n\u001b[1;32m    461\u001b[0m             httplib_response \u001b[38;5;241m=\u001b[39m conn\u001b[38;5;241m.\u001b[39mgetresponse()\n\u001b[1;32m    462\u001b[0m         \u001b[38;5;28;01mexcept\u001b[39;00m \u001b[38;5;167;01mBaseException\u001b[39;00m \u001b[38;5;28;01mas\u001b[39;00m e:\n\u001b[1;32m    463\u001b[0m             \u001b[38;5;66;03m# Remove the TypeError from the exception chain in\u001b[39;00m\n\u001b[1;32m    464\u001b[0m             \u001b[38;5;66;03m# Python 3 (including for exceptions like SystemExit).\u001b[39;00m\n\u001b[1;32m    465\u001b[0m             \u001b[38;5;66;03m# Otherwise it looks like a bug in the code.\u001b[39;00m\n\u001b[0;32m--> 466\u001b[0m             six\u001b[38;5;241m.\u001b[39mraise_from(e, \u001b[38;5;28;01mNone\u001b[39;00m)\n\u001b[1;32m    467\u001b[0m \u001b[38;5;28;01mexcept\u001b[39;00m (SocketTimeout, BaseSSLError, SocketError) \u001b[38;5;28;01mas\u001b[39;00m e:\n\u001b[1;32m    468\u001b[0m     \u001b[38;5;28mself\u001b[39m\u001b[38;5;241m.\u001b[39m_raise_timeout(err\u001b[38;5;241m=\u001b[39me, url\u001b[38;5;241m=\u001b[39murl, timeout_value\u001b[38;5;241m=\u001b[39mread_timeout)\n",
      "File \u001b[0;32m<string>:3\u001b[0m, in \u001b[0;36mraise_from\u001b[0;34m(value, from_value)\u001b[0m\n",
      "File \u001b[0;32m~/anaconda3/lib/python3.11/site-packages/urllib3/connectionpool.py:461\u001b[0m, in \u001b[0;36mHTTPConnectionPool._make_request\u001b[0;34m(self, conn, method, url, timeout, chunked, **httplib_request_kw)\u001b[0m\n\u001b[1;32m    458\u001b[0m \u001b[38;5;28;01mexcept\u001b[39;00m \u001b[38;5;167;01mTypeError\u001b[39;00m:\n\u001b[1;32m    459\u001b[0m     \u001b[38;5;66;03m# Python 3\u001b[39;00m\n\u001b[1;32m    460\u001b[0m     \u001b[38;5;28;01mtry\u001b[39;00m:\n\u001b[0;32m--> 461\u001b[0m         httplib_response \u001b[38;5;241m=\u001b[39m conn\u001b[38;5;241m.\u001b[39mgetresponse()\n\u001b[1;32m    462\u001b[0m     \u001b[38;5;28;01mexcept\u001b[39;00m \u001b[38;5;167;01mBaseException\u001b[39;00m \u001b[38;5;28;01mas\u001b[39;00m e:\n\u001b[1;32m    463\u001b[0m         \u001b[38;5;66;03m# Remove the TypeError from the exception chain in\u001b[39;00m\n\u001b[1;32m    464\u001b[0m         \u001b[38;5;66;03m# Python 3 (including for exceptions like SystemExit).\u001b[39;00m\n\u001b[1;32m    465\u001b[0m         \u001b[38;5;66;03m# Otherwise it looks like a bug in the code.\u001b[39;00m\n\u001b[1;32m    466\u001b[0m         six\u001b[38;5;241m.\u001b[39mraise_from(e, \u001b[38;5;28;01mNone\u001b[39;00m)\n",
      "File \u001b[0;32m~/anaconda3/lib/python3.11/http/client.py:1378\u001b[0m, in \u001b[0;36mHTTPConnection.getresponse\u001b[0;34m(self)\u001b[0m\n\u001b[1;32m   1376\u001b[0m \u001b[38;5;28;01mtry\u001b[39;00m:\n\u001b[1;32m   1377\u001b[0m     \u001b[38;5;28;01mtry\u001b[39;00m:\n\u001b[0;32m-> 1378\u001b[0m         response\u001b[38;5;241m.\u001b[39mbegin()\n\u001b[1;32m   1379\u001b[0m     \u001b[38;5;28;01mexcept\u001b[39;00m \u001b[38;5;167;01mConnectionError\u001b[39;00m:\n\u001b[1;32m   1380\u001b[0m         \u001b[38;5;28mself\u001b[39m\u001b[38;5;241m.\u001b[39mclose()\n",
      "File \u001b[0;32m~/anaconda3/lib/python3.11/http/client.py:318\u001b[0m, in \u001b[0;36mHTTPResponse.begin\u001b[0;34m(self)\u001b[0m\n\u001b[1;32m    316\u001b[0m \u001b[38;5;66;03m# read until we get a non-100 response\u001b[39;00m\n\u001b[1;32m    317\u001b[0m \u001b[38;5;28;01mwhile\u001b[39;00m \u001b[38;5;28;01mTrue\u001b[39;00m:\n\u001b[0;32m--> 318\u001b[0m     version, status, reason \u001b[38;5;241m=\u001b[39m \u001b[38;5;28mself\u001b[39m\u001b[38;5;241m.\u001b[39m_read_status()\n\u001b[1;32m    319\u001b[0m     \u001b[38;5;28;01mif\u001b[39;00m status \u001b[38;5;241m!=\u001b[39m CONTINUE:\n\u001b[1;32m    320\u001b[0m         \u001b[38;5;28;01mbreak\u001b[39;00m\n",
      "File \u001b[0;32m~/anaconda3/lib/python3.11/http/client.py:279\u001b[0m, in \u001b[0;36mHTTPResponse._read_status\u001b[0;34m(self)\u001b[0m\n\u001b[1;32m    278\u001b[0m \u001b[38;5;28;01mdef\u001b[39;00m \u001b[38;5;21m_read_status\u001b[39m(\u001b[38;5;28mself\u001b[39m):\n\u001b[0;32m--> 279\u001b[0m     line \u001b[38;5;241m=\u001b[39m \u001b[38;5;28mstr\u001b[39m(\u001b[38;5;28mself\u001b[39m\u001b[38;5;241m.\u001b[39mfp\u001b[38;5;241m.\u001b[39mreadline(_MAXLINE \u001b[38;5;241m+\u001b[39m \u001b[38;5;241m1\u001b[39m), \u001b[38;5;124m\"\u001b[39m\u001b[38;5;124miso-8859-1\u001b[39m\u001b[38;5;124m\"\u001b[39m)\n\u001b[1;32m    280\u001b[0m     \u001b[38;5;28;01mif\u001b[39;00m \u001b[38;5;28mlen\u001b[39m(line) \u001b[38;5;241m>\u001b[39m _MAXLINE:\n\u001b[1;32m    281\u001b[0m         \u001b[38;5;28;01mraise\u001b[39;00m LineTooLong(\u001b[38;5;124m\"\u001b[39m\u001b[38;5;124mstatus line\u001b[39m\u001b[38;5;124m\"\u001b[39m)\n",
      "File \u001b[0;32m~/anaconda3/lib/python3.11/socket.py:706\u001b[0m, in \u001b[0;36mSocketIO.readinto\u001b[0;34m(self, b)\u001b[0m\n\u001b[1;32m    704\u001b[0m \u001b[38;5;28;01mwhile\u001b[39;00m \u001b[38;5;28;01mTrue\u001b[39;00m:\n\u001b[1;32m    705\u001b[0m     \u001b[38;5;28;01mtry\u001b[39;00m:\n\u001b[0;32m--> 706\u001b[0m         \u001b[38;5;28;01mreturn\u001b[39;00m \u001b[38;5;28mself\u001b[39m\u001b[38;5;241m.\u001b[39m_sock\u001b[38;5;241m.\u001b[39mrecv_into(b)\n\u001b[1;32m    707\u001b[0m     \u001b[38;5;28;01mexcept\u001b[39;00m timeout:\n\u001b[1;32m    708\u001b[0m         \u001b[38;5;28mself\u001b[39m\u001b[38;5;241m.\u001b[39m_timeout_occurred \u001b[38;5;241m=\u001b[39m \u001b[38;5;28;01mTrue\u001b[39;00m\n",
      "File \u001b[0;32m~/anaconda3/lib/python3.11/ssl.py:1311\u001b[0m, in \u001b[0;36mSSLSocket.recv_into\u001b[0;34m(self, buffer, nbytes, flags)\u001b[0m\n\u001b[1;32m   1307\u001b[0m     \u001b[38;5;28;01mif\u001b[39;00m flags \u001b[38;5;241m!=\u001b[39m \u001b[38;5;241m0\u001b[39m:\n\u001b[1;32m   1308\u001b[0m         \u001b[38;5;28;01mraise\u001b[39;00m \u001b[38;5;167;01mValueError\u001b[39;00m(\n\u001b[1;32m   1309\u001b[0m           \u001b[38;5;124m\"\u001b[39m\u001b[38;5;124mnon-zero flags not allowed in calls to recv_into() on \u001b[39m\u001b[38;5;132;01m%s\u001b[39;00m\u001b[38;5;124m\"\u001b[39m \u001b[38;5;241m%\u001b[39m\n\u001b[1;32m   1310\u001b[0m           \u001b[38;5;28mself\u001b[39m\u001b[38;5;241m.\u001b[39m\u001b[38;5;18m__class__\u001b[39m)\n\u001b[0;32m-> 1311\u001b[0m     \u001b[38;5;28;01mreturn\u001b[39;00m \u001b[38;5;28mself\u001b[39m\u001b[38;5;241m.\u001b[39mread(nbytes, buffer)\n\u001b[1;32m   1312\u001b[0m \u001b[38;5;28;01melse\u001b[39;00m:\n\u001b[1;32m   1313\u001b[0m     \u001b[38;5;28;01mreturn\u001b[39;00m \u001b[38;5;28msuper\u001b[39m()\u001b[38;5;241m.\u001b[39mrecv_into(buffer, nbytes, flags)\n",
      "File \u001b[0;32m~/anaconda3/lib/python3.11/ssl.py:1167\u001b[0m, in \u001b[0;36mSSLSocket.read\u001b[0;34m(self, len, buffer)\u001b[0m\n\u001b[1;32m   1165\u001b[0m \u001b[38;5;28;01mtry\u001b[39;00m:\n\u001b[1;32m   1166\u001b[0m     \u001b[38;5;28;01mif\u001b[39;00m buffer \u001b[38;5;129;01mis\u001b[39;00m \u001b[38;5;129;01mnot\u001b[39;00m \u001b[38;5;28;01mNone\u001b[39;00m:\n\u001b[0;32m-> 1167\u001b[0m         \u001b[38;5;28;01mreturn\u001b[39;00m \u001b[38;5;28mself\u001b[39m\u001b[38;5;241m.\u001b[39m_sslobj\u001b[38;5;241m.\u001b[39mread(\u001b[38;5;28mlen\u001b[39m, buffer)\n\u001b[1;32m   1168\u001b[0m     \u001b[38;5;28;01melse\u001b[39;00m:\n\u001b[1;32m   1169\u001b[0m         \u001b[38;5;28;01mreturn\u001b[39;00m \u001b[38;5;28mself\u001b[39m\u001b[38;5;241m.\u001b[39m_sslobj\u001b[38;5;241m.\u001b[39mread(\u001b[38;5;28mlen\u001b[39m)\n",
      "\u001b[0;31mKeyboardInterrupt\u001b[0m: "
     ]
    }
   ],
   "source": [
    "university_name='university of virginia'\n",
    "university_id = person_match.institution_id_openalex(university_name)\n",
    "fileName = 'OpenAlex Names.csv'\n",
    "namesArray = csv_handler.name_csv_reader(fileName, 'Names') # Reading all names from CSV file, appending to array\n",
    "print(namesArray)\n",
    "IDArray = [] # Array that will contain ids of corresponding authors\n",
    "dataDict = defaultdict(list) # Dictionary that will be written to output CSV file\n",
    "\n",
    "#Iterating through names array, finding corresponding OpenAlex ID for each author\n",
    "for name in namesArray: \n",
    "    person_ids, type_search_conducted, match_person_name = person_match.list_person_ids_openalex(name, university_id)\n",
    "    selectID = person_match.choose_person(person_ids, name, university_id, type_search_conducted)\n",
    "    IDArray.append(selectID)\n",
    "\n",
    "dataDict[\"Names\"] = namesArray #Creating Names column for CSV file\n",
    "dataDict[\"OpenAlexID\"] = IDArray #Creating corresonding IDs column for CSV file\n",
    "csv_handler.name_csv_writer(\"output.csv\", dataDict)"
   ]
  }
 ],
 "metadata": {
  "kernelspec": {
   "display_name": "base",
   "language": "python",
   "name": "python3"
  },
  "language_info": {
   "codemirror_mode": {
    "name": "ipython",
    "version": 3
   },
   "file_extension": ".py",
   "mimetype": "text/x-python",
   "name": "python",
   "nbconvert_exporter": "python",
   "pygments_lexer": "ipython3",
   "version": "3.11.5"
  }
 },
 "nbformat": 4,
 "nbformat_minor": 5
}
