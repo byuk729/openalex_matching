{
 "cells": [
  {
   "cell_type": "markdown",
   "id": "2e92601f",
   "metadata": {},
   "source": []
  },
  {
   "cell_type": "code",
   "execution_count": 6,
   "id": "53ade136",
   "metadata": {},
   "outputs": [
    {
     "data": {
      "text/plain": [
       "<module 'openalex_matching.csv_handler' from '/Users/bryanyuk/anaconda3/lib/python3.11/site-packages/openalex_matching/csv_handler.py'>"
      ]
     },
     "execution_count": 6,
     "metadata": {},
     "output_type": "execute_result"
    }
   ],
   "source": [
    "from importlib import reload\n",
    "from openalex_matching import person_match\n",
    "from collections import defaultdict\n",
    "from openalex_matching import csv_handler\n",
    "reload(csv_handler)\n"
   ]
  },
  {
   "cell_type": "code",
   "execution_count": 12,
   "id": "dc63db50",
   "metadata": {},
   "outputs": [],
   "source": [
    "# Step 2: Define your updated version of name_csv_reader\n",
    "import pandas as pd\n",
    "def updated_name_csv_reader(inputFileName, columnName):\n",
    "    try:\n",
    "        # Check if file has a .csv extension\n",
    "        if not inputFileName.lower().endswith(\".csv\"):\n",
    "            raise ValueError(\"Invalid input file format, only CSV files are acceptable\")\n",
    "        \n",
    "        # Read the CSV file\n",
    "        df = pd.read_csv(inputFileName)\n",
    "\n",
    "        # Check if the specified column exists in the CSV\n",
    "        if columnName in df.columns:\n",
    "            namesArray = df[columnName].to_numpy()\n",
    "        else:\n",
    "            raise ValueError(f\"'{columnName}' column not found in input CSV file\")\n",
    "        \n",
    "        return namesArray\n",
    "    \n",
    "    except FileNotFoundError:\n",
    "        print(f\"File '{inputFileName}' not found\")\n",
    "    except Exception as e:\n",
    "        print(f\"An error occurred: {e}\")\n",
    "\n",
    "# Step 3: Monkey patch the function in the module\n",
    "csv_handler.name_csv_reader = updated_name_csv_reader"
   ]
  },
  {
   "cell_type": "markdown",
   "id": "44686ae0-0f08-4dc8-8359-5f787b15bde7",
   "metadata": {},
   "source": [
    "# OpenAlex API Search Strategy"
   ]
  },
  {
   "attachments": {},
   "cell_type": "markdown",
   "id": "9cdf029a-2cda-4762-8a87-a84550d43d13",
   "metadata": {},
   "source": [
    "# Strategy: \n",
    "1. Find the OpenAlex Institution ID:\n",
    "    - First, search for the OpenAlex ID of the desired institution using the institution's name.\n",
    "\n",
    "2. Search for Authors by Name and Institution:\n",
    "    - Next, search for authors by their display name, filtering results by the institution's OpenAlex ID. If no results are found:\n",
    "        - Search through nick names associated with author's first name\n",
    "        - If the input name consists of two capital letters (indicating initials), attempt an initial-based search.\n",
    "        - If that still returns no results, try searching by first initial and last name.\n",
    "    - The search will return one of three enumerated types:\n",
    "        - EXACT_NAME: Indicates an exact match with the full name.\n",
    "        - FIRST_MIDDLE_INITIAL: Indicates a match using first and middle initials.\n",
    "        - FIRST_INITIAL: Indicates a match using only the first initial.\n",
    "    - The filtering method will adjust based on the type of search used.\n",
    "3. Filter and Select the Best Matched Author:\n",
    "    - Depending on the type of search used, filter the list of matched OpenAlex IDs:\n",
    "        - Exact Name Search (EXACT_NAME): Use fuzzy string matching to eliminate names that deviate too much from the inputted author name. Select the author with the highest fuzzy match score. In case of a tie in fuzzy match scores, choose the author with the higher citation count.\n",
    "        - Initial Search (FIRST_MIDDLE_INITIAL or FIRST_INITIAL): Ensure that the first initial of the inputted author name matches the first initial of the returned author names. Filter out any mismatches. Then, select the most highly cited author.\n",
    "        - For searches using only one initial (FIRST_INITIAL), apply a stricter fuzzy matching threshold since these searches are more prone to errors. In case of a tie, select the author with more citations.\n"
   ]
  },
  {
   "cell_type": "code",
   "execution_count": 2,
   "id": "e3678ee5",
   "metadata": {},
   "outputs": [
    {
     "name": "stdout",
     "output_type": "stream",
     "text": [
      "I51556381\n"
     ]
    }
   ],
   "source": [
    "#Step One\n",
    "university_name = 'University of Virginia'\n",
    "university_id = person_match.institution_id_openalex(university_name)\n",
    "print(university_id)"
   ]
  },
  {
   "cell_type": "code",
   "execution_count": 3,
   "id": "f7303704",
   "metadata": {},
   "outputs": [
    {
     "name": "stdout",
     "output_type": "stream",
     "text": [
      "['A5015605411', 'A5111842581', 'A5029765901']\n"
     ]
    }
   ],
   "source": [
    "#Step Two\n",
    "person_name = \"Ray Balkrishnan\"\n",
    "list_of_ids, type_search_conducted, match_person_name = person_match.list_person_ids_openalex(person_name, university_id)\n",
    "print(list_of_ids)\n",
    "\n",
    "\n"
   ]
  },
  {
   "cell_type": "code",
   "execution_count": 4,
   "id": "1476e9c6",
   "metadata": {},
   "outputs": [
    {
     "name": "stdout",
     "output_type": "stream",
     "text": [
      "A5029765901\n"
     ]
    }
   ],
   "source": [
    "#Step Three\n",
    "openalex_id = person_match.choose_person(list_of_ids, match_person_name, university_id, type_search_conducted)\n",
    "print(openalex_id)"
   ]
  },
  {
   "cell_type": "markdown",
   "id": "8389b719",
   "metadata": {},
   "source": [
    "## Example inputting and outputting CSV files"
   ]
  },
  {
   "cell_type": "code",
   "execution_count": null,
   "id": "b0625589",
   "metadata": {},
   "outputs": [
    {
     "name": "stdout",
     "output_type": "stream",
     "text": [
      "['Gabrielle Adams' 'Nafisa Ahmed' 'Sonia Alconini' 'Negin Alemazkoor'\n",
      " 'Harsh Anand' 'Elizabeth Andrews' 'Anthony Artuso' 'Mary Asare-Ado'\n",
      " 'Ehsan Baharlou' 'Teagan Baiotto' 'Cora Baird' 'Prasanna Balachandran'\n",
      " 'Ray Balkrishnan' 'Lawrence Band' 'Ellen Bassett' 'Tim Beatley'\n",
      " 'Jeffrey Bennett' 'Peter Berg' 'Emily Bernhardt' 'Alice Besterman'\n",
      " 'Lori Bird' 'Shannon Blevins' 'Swatah Borkotoky' 'Hanne Borstlap'\n",
      " 'Allison Bradshaw' 'Jeanine Braithwaite' 'JD Brown' 'Kelly Bulin'\n",
      " 'Mark Buntaine' 'Matthew Burtner' 'Dawn Byrd' 'Liheng Cai'\n",
      " 'Brad Campbell' 'Jonathan Cannon' 'Brad Cantrell' 'Kerrie Carfagno'\n",
      " 'Ann Carlton' 'Kathy Carmody' 'Sergio Casas' 'Max Castorani' 'Dong Chen'\n",
      " 'Donna Chen' 'Leena Cho' 'Michele Claibourn' 'Andres Clarens'\n",
      " 'Tanya Cobb' 'Ronald Cohen' 'Jonathan Colmer' 'Lisa Colosi'\n",
      " 'Josh Colston' 'Ben Converse' 'Nina Copeland' 'Sheila Crane'\n",
      " 'Phoebe Crisman' 'Teresa Culver' \"Paolo D'Odorico\" 'Robert Davis'\n",
      " 'Brian Davis' 'Peter Debaere' 'Cahterine Debbas' 'Pam DeGuzman'\n",
      " 'Ryan Denker' 'Rebecca Dillingham' 'Lise Dobrin' 'Tim Dodson'\n",
      " 'Scott Doney' 'Karen Downing' 'Kateri Dubay' 'Frank Dukes'\n",
      " 'Aleksandra Durova' 'Andre Elliot' 'Kyle Enfield' 'William Epling'\n",
      " 'Howard Epstein' 'Bevin Etienne' 'Bin Fang' 'Chloe Fauvel'\n",
      " 'Aissatou Faye' 'Joao Fereirra' 'Sean Ferguson' 'Kim Fields'\n",
      " 'Charles Fish ' 'Daniel Fishkin' 'Jonah Fogel' 'MC Forelle'\n",
      " 'Alex Foxworthy' 'Cassandra Fraser' 'Jay Fuhrman' 'Kirsten Gelsdorf'\n",
      " 'Adrienne Ghaly' 'Gaurav Giri' 'Sierra Gladfelter' 'Joshua Goldstein'\n",
      " 'Jonathan Goodall' 'Michael Gorman' 'Christopher Goyne' 'Fiona Greenland'\n",
      " 'Claire Griffin' 'Kevin Grise' 'Mool Gupta' 'Dat Ha' 'Jennifer Hadayia'\n",
      " 'Martien Halvorsen-Taylor' 'Devin Harris' 'Tom Hartvigsen'\n",
      " 'Arsalan Heydarian' 'Mar Hicks' 'Bruce Holsinger' 'Stefan Hoops'\n",
      " 'Guoping Huang' 'Ryan Huish' 'Omoanghe Isikhuemhen' 'Mohamed Ismail'\n",
      " 'Parisa Javadi' 'Willis Jenkins' 'Kelsey Johnson' 'Della Jordan'\n",
      " 'Matthew Jull' 'Andrew Kahrl' 'Hyojung Kang' 'Kamair Khayambashi'\n",
      " 'April Kim' 'Rachel Kinzer' 'Leidy Klotz' 'Janelle Knox-Hayes'\n",
      " 'Gary Koenig' 'Margaret Kosek' 'Luke Kreider' 'Sharon Ku'\n",
      " 'Venkataraman Lakshmi' 'Deborah Lawrence' 'David Leblang' 'Manuel Lerdau'\n",
      " 'Ajay Limaye' 'Erik Linstrum' 'Eric Loth' 'Garrick Louis' 'Boyang Lu '\n",
      " 'Christopher Luna-Mega' 'Katie MacDonald' 'Christine Mahoney'\n",
      " 'Antonios Mamalakis' 'Dayna Matthew' 'Karen McGlathery' 'Zihan Mei'\n",
      " 'Beth Mitchell' 'Christina Mobley' 'Andrew Mondschein' 'Henning Mortveit'\n",
      " 'Balashankar Mulloth' 'N/A N/A' 'Chris Neale' 'Wendy Novicoff'\n",
      " 'Charity Nyelele' \"Moira O'Neill\" 'Osman Osbulut' 'Michael Pace'\n",
      " 'Sonal Pandya' 'Brian Park' 'Maryfrances Porter' 'Shreekar Pradhan'\n",
      " 'Sally Pusede' 'Erin Putalink' 'Julianne Quinn' 'Daniel Quinn' 'Mani Rad'\n",
      " 'Daniel Rau' 'Jess Reia' 'Matthew Reidenbach' 'Terrence Rephann'\n",
      " 'Brian Richter' 'Beth Roach' 'Jenny Roe' 'Charlotte Rogers'\n",
      " 'Robert Sabbatini' 'Nafiseh Salehi' 'Marisa Sanchez' 'Kurtis Schaeffer'\n",
      " 'Kathleen Schiro' 'Sheetal Sekhri' 'Majid Shafiee-Jood' 'Victoria Shen'\n",
      " 'Jay Shimshack' 'Bill Shobe' 'Jorg Sieweke' 'Lauren Simkins'\n",
      " 'Udayan Singh' 'Kellen Singleton' 'Michael Skrutskie' 'Donna Smith'\n",
      " 'Jim Smith' 'Min-Woong Sohn' 'Mircea Stan' 'Eli Stine' 'Logan Stundal'\n",
      " 'Samarth Swarup' 'Leon Szeptycki' 'Katherine Tarrant' 'Ozlem Tasci'\n",
      " 'Martin Volaric' 'Charles Vorosmarty' 'Alex Wall' 'Mark White'\n",
      " 'Kamin Whitehouse' 'Patricia Wiberg' 'Bev Wilson' 'Barbara Wilson'\n",
      " 'Brantly Womack' 'Xi Yang' 'Fangfang Yao' 'Shan Yu' 'Wie Yusuf'\n",
      " 'Madeleine Zahn' 'Sen Zhang' 'Yulu Zhang' 'Ruoyu Zhang' 'Ruijie Zhu']\n",
      "A5016085568 has not met string matching threshold: not a valid name\n"
     ]
    }
   ],
   "source": [
    "university_name='university of virginia'\n",
    "university_id = person_match.institution_id_openalex(university_name)\n",
    "fileName = 'OpenAlex Names.csv'\n",
    "namesArray = csv_handler.name_csv_reader(fileName, 'Names') # Reading all names from CSV file, appending to array\n",
    "print(namesArray)\n",
    "IDArray = [] # Array that will contain ids of corresponding authors\n",
    "dataDict = defaultdict(list) # Dictionary that will be written to output CSV file\n",
    "\n",
    "#Iterating through names array, finding corresponding OpenAlex ID for each author\n",
    "for name in namesArray: \n",
    "    person_ids, type_search_conducted, match_person_name = person_match.list_person_ids_openalex(name, university_id)\n",
    "    selectID = person_match.choose_person(person_ids, name, university_id, type_search_conducted)\n",
    "    IDArray.append(selectID)\n",
    "\n",
    "dataDict[\"Names\"] = namesArray #Creating Names column for CSV file\n",
    "dataDict[\"OpenAlexID\"] = IDArray #Creating corresonding IDs column for CSV file\n",
    "csv_handler.name_csv_writer(\"output.csv\", dataDict)"
   ]
  }
 ],
 "metadata": {
  "kernelspec": {
   "display_name": "base",
   "language": "python",
   "name": "python3"
  },
  "language_info": {
   "codemirror_mode": {
    "name": "ipython",
    "version": 3
   },
   "file_extension": ".py",
   "mimetype": "text/x-python",
   "name": "python",
   "nbconvert_exporter": "python",
   "pygments_lexer": "ipython3",
   "version": "3.11.5"
  }
 },
 "nbformat": 4,
 "nbformat_minor": 5
}
