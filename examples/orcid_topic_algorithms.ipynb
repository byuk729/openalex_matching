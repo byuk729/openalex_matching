{
 "cells": [
  {
   "cell_type": "code",
   "execution_count": 1,
   "metadata": {},
   "outputs": [],
   "source": [
    "from openalex_matching import topic_orcid_algorithms\n",
    "from openalex_matching import person_match"
   ]
  },
  {
   "cell_type": "markdown",
   "metadata": {
    "vscode": {
     "languageId": "plaintext"
    }
   },
   "source": [
    "### Example Searching Author based on ORCID ID"
   ]
  },
  {
   "cell_type": "code",
   "execution_count": 2,
   "metadata": {},
   "outputs": [
    {
     "name": "stdout",
     "output_type": "stream",
     "text": [
      "Alexander J. Gates\n"
     ]
    }
   ],
   "source": [
    "testOrcid = \"0000-0003-0099-7480\"\n",
    "print(topic_orcid_algorithms.search_orcid_ID(testOrcid))"
   ]
  },
  {
   "cell_type": "markdown",
   "metadata": {},
   "source": [
    "### Example: Searching for a list of OpenAlex IDs associated with an author, filtered by institution and topics"
   ]
  },
  {
   "cell_type": "code",
   "execution_count": 3,
   "metadata": {},
   "outputs": [
    {
     "name": "stdout",
     "output_type": "stream",
     "text": [
      "I51556381\n",
      "T13445\n",
      "{'Craig'}\n",
      "['T10108', 'T12210', 'T12225', 'T11461', 'T10443', 'T10802', 'T11432', 'T11770', 'T13445', 'T11544', 'T10213', 'T13138', 'T12619', 'T12185', 'T10991', 'T13158', 'T11621', 'T14013', 'T10289', 'T11762', 'T10391', 'T14509', 'T13710', 'T12961', 'T11397']\n",
      "['A5004704074']\n"
     ]
    }
   ],
   "source": [
    "#Get university ID\n",
    "university_name = 'University of Virginia'\n",
    "university_id = person_match.institution_id_openalex(university_name)\n",
    "print(university_id)\n",
    "\n",
    "#Get topic ID\n",
    "topicID = topic_orcid_algorithms.topic_id_openAlex(\"American Political Thought and History\")\n",
    "print(topicID)\n",
    "\n",
    "#Return list of IDs\n",
    "personIDS = topic_orcid_algorithms.list_person_ids_openalex_by_topic(\"Craig Volden\", university_id, topicID)\n",
    "print(personIDS)"
   ]
  }
 ],
 "metadata": {
  "kernelspec": {
   "display_name": "base",
   "language": "python",
   "name": "python3"
  },
  "language_info": {
   "codemirror_mode": {
    "name": "ipython",
    "version": 3
   },
   "file_extension": ".py",
   "mimetype": "text/x-python",
   "name": "python",
   "nbconvert_exporter": "python",
   "pygments_lexer": "ipython3",
   "version": "3.11.5"
  }
 },
 "nbformat": 4,
 "nbformat_minor": 2
}
