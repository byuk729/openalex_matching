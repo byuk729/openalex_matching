{
 "cells": [
  {
   "cell_type": "code",
   "execution_count": 1,
   "metadata": {},
   "outputs": [],
   "source": [
    "from openalex_matching import topic_orcid_algorithms\n",
    "from openalex_matching import person_match"
   ]
  },
  {
   "cell_type": "markdown",
   "metadata": {
    "vscode": {
     "languageId": "plaintext"
    }
   },
   "source": [
    "### Example Searching Author based on ORCID ID"
   ]
  },
  {
   "cell_type": "code",
   "execution_count": 2,
   "metadata": {},
   "outputs": [
    {
     "name": "stdout",
     "output_type": "stream",
     "text": [
      "Alexander J. Gates\n"
     ]
    }
   ],
   "source": [
    "testOrcid = \"0000-0003-0099-7480\"\n",
    "print(topic_orcid_algorithms.search_orcid_ID(testOrcid))"
   ]
  },
  {
   "cell_type": "markdown",
   "metadata": {},
   "source": [
    "### Example: Searching for a list of OpenAlex IDs associated with an author, filtered by institution and topics"
   ]
  },
  {
   "cell_type": "code",
   "execution_count": 3,
   "metadata": {},
   "outputs": [
    {
     "name": "stdout",
     "output_type": "stream",
     "text": [
      "I51556381\n"
     ]
    },
    {
     "ename": "ValueError",
     "evalue": "topic name can only include alphabetic characters",
     "output_type": "error",
     "traceback": [
      "\u001b[0;31m---------------------------------------------------------------------------\u001b[0m",
      "\u001b[0;31mValueError\u001b[0m                                Traceback (most recent call last)",
      "Cell \u001b[0;32mIn[3], line 7\u001b[0m\n\u001b[1;32m      4\u001b[0m \u001b[38;5;28mprint\u001b[39m(university_id)\n\u001b[1;32m      6\u001b[0m \u001b[38;5;66;03m#Get topic ID\u001b[39;00m\n\u001b[0;32m----> 7\u001b[0m topicID \u001b[38;5;241m=\u001b[39m topic_orcid_algorithms\u001b[38;5;241m.\u001b[39mtopic_id_openAlex(\u001b[38;5;124m\"\u001b[39m\u001b[38;5;124mAmerican Political Thought and History\u001b[39m\u001b[38;5;124m\"\u001b[39m)\n\u001b[1;32m      8\u001b[0m \u001b[38;5;28mprint\u001b[39m(topicID)\n\u001b[1;32m     10\u001b[0m \u001b[38;5;66;03m#Return list of IDs\u001b[39;00m\n",
      "File \u001b[0;32m~/anaconda3/lib/python3.11/site-packages/openalex_matching/topic_orcid_algorithms.py:10\u001b[0m, in \u001b[0;36mtopic_id_openAlex\u001b[0;34m(topicName)\u001b[0m\n\u001b[1;32m      7\u001b[0m \u001b[38;5;28;01mdef\u001b[39;00m \u001b[38;5;21mtopic_id_openAlex\u001b[39m(topicName):\n\u001b[1;32m      9\u001b[0m     \u001b[38;5;28;01mif\u001b[39;00m \u001b[38;5;129;01mnot\u001b[39;00m topicName\u001b[38;5;241m.\u001b[39misalpha():\n\u001b[0;32m---> 10\u001b[0m         \u001b[38;5;28;01mraise\u001b[39;00m \u001b[38;5;167;01mValueError\u001b[39;00m(\u001b[38;5;124m\"\u001b[39m\u001b[38;5;124mtopic name can only include alphabetic characters\u001b[39m\u001b[38;5;124m\"\u001b[39m)\n\u001b[1;32m     12\u001b[0m     url \u001b[38;5;241m=\u001b[39m \u001b[38;5;124mf\u001b[39m\u001b[38;5;124m\"\u001b[39m\u001b[38;5;124mhttps://api.openalex.org/topics?search=\u001b[39m\u001b[38;5;132;01m{\u001b[39;00mtopicName\u001b[38;5;132;01m}\u001b[39;00m\u001b[38;5;124m\"\u001b[39m\n\u001b[1;32m     13\u001b[0m     response \u001b[38;5;241m=\u001b[39m requests\u001b[38;5;241m.\u001b[39mget(url)\n",
      "\u001b[0;31mValueError\u001b[0m: topic name can only include alphabetic characters"
     ]
    }
   ],
   "source": [
    "#Get university ID\n",
    "university_name = 'University of Virginia'\n",
    "university_id = person_match.institution_id_openalex(university_name)\n",
    "print(university_id)\n",
    "\n",
    "#Get topic ID\n",
    "topicID = topic_orcid_algorithms.topic_id_openAlex(\"American Political Thought and History\")\n",
    "print(topicID)\n",
    "\n",
    "#Return list of IDs\n",
    "personIDS = topic_orcid_algorithms.list_person_ids_openalex_by_topic(\"Craig Volden\", university_id, topicID)\n",
    "print(personIDS)"
   ]
  }
 ],
 "metadata": {
  "kernelspec": {
   "display_name": "base",
   "language": "python",
   "name": "python3"
  },
  "language_info": {
   "codemirror_mode": {
    "name": "ipython",
    "version": 3
   },
   "file_extension": ".py",
   "mimetype": "text/x-python",
   "name": "python",
   "nbconvert_exporter": "python",
   "pygments_lexer": "ipython3",
   "version": "3.11.5"
  }
 },
 "nbformat": 4,
 "nbformat_minor": 2
}
